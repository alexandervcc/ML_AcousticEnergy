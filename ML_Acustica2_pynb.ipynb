{
  "nbformat": 4,
  "nbformat_minor": 0,
  "metadata": {
    "colab": {
      "name": "ML_Acustica2.pynb",
      "provenance": [],
      "collapsed_sections": [],
      "mount_file_id": "1XFf8uC3NX_y6B0ax4_iwWZemCr-qfL3z",
      "authorship_tag": "ABX9TyMC0FhWPtb4rF77ajXHBIjw",
      "include_colab_link": true
    },
    "kernelspec": {
      "display_name": "Python 3",
      "name": "python3"
    },
    "language_info": {
      "name": "python"
    }
  },
  "cells": [
    {
      "cell_type": "markdown",
      "metadata": {
        "id": "view-in-github",
        "colab_type": "text"
      },
      "source": [
        "<a href=\"https://colab.research.google.com/github/alexcharcoepn/ML_AcousticEnergy/blob/main/ML_Acustica2_pynb.ipynb\" target=\"_parent\"><img src=\"https://colab.research.google.com/assets/colab-badge.svg\" alt=\"Open In Colab\"/></a>"
      ]
    },
    {
      "cell_type": "code",
      "metadata": {
        "id": "fFrcCcTwLJVg"
      },
      "source": [
        "  import numpy as np  \n",
        "from tensorflow import keras\n",
        "from tensorflow.keras import layers\n",
        "import matplotlib \n",
        "from matplotlib import pyplot as plt\n",
        "import random\n"
      ],
      "execution_count": null,
      "outputs": []
    },
    {
      "cell_type": "code",
      "metadata": {
        "id": "32f6Y7WMyrvW"
      },
      "source": [
        "listNp=np.load('drive/MyDrive/inter.npy')\n",
        "points=np.load('drive/MyDrive/Points.npy')"
      ],
      "execution_count": null,
      "outputs": []
    },
    {
      "cell_type": "code",
      "metadata": {
        "id": "Q-NKw1lATbiB"
      },
      "source": [
        "listNp2=np.load('drive/MyDrive/inter.npy')\n",
        "points2=np.load('drive/MyDrive/Points.npy')"
      ],
      "execution_count": null,
      "outputs": []
    },
    {
      "cell_type": "code",
      "metadata": {
        "id": "73fVhP1j7uuW"
      },
      "source": [
        "#Shufling Data\n",
        "c = list(zip(listNp,points))\n",
        "random.shuffle(c)\n",
        "listnp1, points1 = zip(*c)\n",
        "listNp=np.array(listnp1)\n",
        "points=np.array(points1)\n"
      ],
      "execution_count": null,
      "outputs": []
    },
    {
      "cell_type": "code",
      "metadata": {
        "id": "9cHqGxqqzYB5"
      },
      "source": [
        "#Dividir datos\n",
        "train=listNp[0:80000]\n",
        "test=listNp[80001:100000]\n",
        "pTrain=points[0:80000]\n",
        "pTest=points[80001:100000]"
      ],
      "execution_count": null,
      "outputs": []
    },
    {
      "cell_type": "code",
      "metadata": {
        "colab": {
          "base_uri": "https://localhost:8080/"
        },
        "id": "GSKtCanWp6tr",
        "outputId": "39017fe2-e0ee-4f29-b272-83b40934b4b6"
      },
      "source": [
        "print(pTrain.shape)\n",
        "print(train.shape)"
      ],
      "execution_count": null,
      "outputs": [
        {
          "output_type": "stream",
          "name": "stdout",
          "text": [
            "(80000, 3)\n",
            "(80000, 300)\n"
          ]
        }
      ]
    },
    {
      "cell_type": "markdown",
      "metadata": {
        "id": "XQuCZfx7pMLe"
      },
      "source": [
        "#ML"
      ]
    },
    {
      "cell_type": "code",
      "metadata": {
        "id": "nMBSbC5eIkKn"
      },
      "source": [
        "#Modelo\n",
        "model2 = keras.Sequential()\n",
        "model2.add(layers.InputLayer(input_shape=(3,)))\n",
        "model2.add(layers.Dense(15, activation='tanh'))\n",
        "model2.add(layers.Dense(35, activation='tanh'))\n",
        "model2.add(layers.Dense(75, activation='tanh'))\n",
        "model2.add(layers.Dense(150, activation='tanh'))\n",
        "model2.add(layers.Dense(300,activation=\"relu\"))\n"
      ],
      "execution_count": null,
      "outputs": []
    },
    {
      "cell_type": "code",
      "metadata": {
        "id": "Ny8kqCWIIepo"
      },
      "source": [
        "#Compilacion\n",
        "model2.compile(optimizer='adam',loss='mean_squared_error',metrics=['accuracy'])"
      ],
      "execution_count": null,
      "outputs": []
    },
    {
      "cell_type": "code",
      "metadata": {
        "colab": {
          "base_uri": "https://localhost:8080/"
        },
        "id": "2uZ4MpDYKnNN",
        "outputId": "0e65f89d-2d49-45dd-8251-ec52d129d713"
      },
      "source": [
        "#Entrenamiento\n",
        "model2.fit(pTrain, train, epochs=50)"
      ],
      "execution_count": null,
      "outputs": [
        {
          "output_type": "stream",
          "name": "stdout",
          "text": [
            "Epoch 1/50\n",
            "2500/2500 [==============================] - 6s 2ms/step - loss: 2.7668e-04 - accuracy: 0.6253\n",
            "Epoch 2/50\n",
            "2500/2500 [==============================] - 5s 2ms/step - loss: 1.0635e-04 - accuracy: 0.7253\n",
            "Epoch 3/50\n",
            "2500/2500 [==============================] - 5s 2ms/step - loss: 5.6357e-05 - accuracy: 0.7509\n",
            "Epoch 4/50\n",
            "2500/2500 [==============================] - 5s 2ms/step - loss: 2.9110e-05 - accuracy: 0.7663\n",
            "Epoch 5/50\n",
            "2500/2500 [==============================] - 5s 2ms/step - loss: 1.9942e-05 - accuracy: 0.7817\n",
            "Epoch 6/50\n",
            "2500/2500 [==============================] - 5s 2ms/step - loss: 1.5924e-05 - accuracy: 0.8078\n",
            "Epoch 7/50\n",
            "2500/2500 [==============================] - 5s 2ms/step - loss: 1.2646e-05 - accuracy: 0.8235\n",
            "Epoch 8/50\n",
            "2500/2500 [==============================] - 5s 2ms/step - loss: 1.0446e-05 - accuracy: 0.8349\n",
            "Epoch 9/50\n",
            "2500/2500 [==============================] - 5s 2ms/step - loss: 8.6924e-06 - accuracy: 0.8428\n",
            "Epoch 10/50\n",
            "2500/2500 [==============================] - 5s 2ms/step - loss: 7.5975e-06 - accuracy: 0.8543\n",
            "Epoch 11/50\n",
            "2500/2500 [==============================] - 5s 2ms/step - loss: 6.6694e-06 - accuracy: 0.8621\n",
            "Epoch 12/50\n",
            "2500/2500 [==============================] - 5s 2ms/step - loss: 5.9123e-06 - accuracy: 0.8674\n",
            "Epoch 13/50\n",
            "2500/2500 [==============================] - 5s 2ms/step - loss: 5.3560e-06 - accuracy: 0.8743\n",
            "Epoch 14/50\n",
            "2500/2500 [==============================] - 5s 2ms/step - loss: 4.9036e-06 - accuracy: 0.8787\n",
            "Epoch 15/50\n",
            "2500/2500 [==============================] - 5s 2ms/step - loss: 4.5945e-06 - accuracy: 0.8825\n",
            "Epoch 16/50\n",
            "2500/2500 [==============================] - 5s 2ms/step - loss: 4.3378e-06 - accuracy: 0.8843\n",
            "Epoch 17/50\n",
            "2500/2500 [==============================] - 5s 2ms/step - loss: 4.1192e-06 - accuracy: 0.8874\n",
            "Epoch 18/50\n",
            "2500/2500 [==============================] - 5s 2ms/step - loss: 3.9086e-06 - accuracy: 0.8909\n",
            "Epoch 19/50\n",
            "2500/2500 [==============================] - 5s 2ms/step - loss: 3.7269e-06 - accuracy: 0.8934\n",
            "Epoch 20/50\n",
            "2500/2500 [==============================] - 5s 2ms/step - loss: 3.5226e-06 - accuracy: 0.8966\n",
            "Epoch 21/50\n",
            "2500/2500 [==============================] - 5s 2ms/step - loss: 3.4030e-06 - accuracy: 0.8995\n",
            "Epoch 22/50\n",
            "2500/2500 [==============================] - 5s 2ms/step - loss: 3.3572e-06 - accuracy: 0.9011\n",
            "Epoch 23/50\n",
            "2500/2500 [==============================] - 5s 2ms/step - loss: 3.1981e-06 - accuracy: 0.9033\n",
            "Epoch 24/50\n",
            "2500/2500 [==============================] - 5s 2ms/step - loss: 3.0900e-06 - accuracy: 0.9059\n",
            "Epoch 25/50\n",
            "2500/2500 [==============================] - 5s 2ms/step - loss: 3.0093e-06 - accuracy: 0.9080\n",
            "Epoch 26/50\n",
            "2500/2500 [==============================] - 5s 2ms/step - loss: 2.9093e-06 - accuracy: 0.9108\n",
            "Epoch 27/50\n",
            "2500/2500 [==============================] - 5s 2ms/step - loss: 2.8564e-06 - accuracy: 0.9098\n",
            "Epoch 28/50\n",
            "2500/2500 [==============================] - 5s 2ms/step - loss: 2.7939e-06 - accuracy: 0.9115\n",
            "Epoch 29/50\n",
            "2500/2500 [==============================] - 5s 2ms/step - loss: 2.7050e-06 - accuracy: 0.9132\n",
            "Epoch 30/50\n",
            "2500/2500 [==============================] - 5s 2ms/step - loss: 2.6192e-06 - accuracy: 0.9153\n",
            "Epoch 31/50\n",
            "2500/2500 [==============================] - 5s 2ms/step - loss: 2.5653e-06 - accuracy: 0.9169\n",
            "Epoch 32/50\n",
            "2500/2500 [==============================] - 5s 2ms/step - loss: 2.4987e-06 - accuracy: 0.9180\n",
            "Epoch 33/50\n",
            "2500/2500 [==============================] - 5s 2ms/step - loss: 2.4586e-06 - accuracy: 0.9203\n",
            "Epoch 34/50\n",
            "2500/2500 [==============================] - 5s 2ms/step - loss: 2.4157e-06 - accuracy: 0.9207\n",
            "Epoch 35/50\n",
            "2500/2500 [==============================] - 5s 2ms/step - loss: 2.3757e-06 - accuracy: 0.9231\n",
            "Epoch 36/50\n",
            "2500/2500 [==============================] - 5s 2ms/step - loss: 2.3141e-06 - accuracy: 0.9240\n",
            "Epoch 37/50\n",
            "2500/2500 [==============================] - 5s 2ms/step - loss: 2.2531e-06 - accuracy: 0.9252\n",
            "Epoch 38/50\n",
            "2500/2500 [==============================] - 5s 2ms/step - loss: 2.2628e-06 - accuracy: 0.9265\n",
            "Epoch 39/50\n",
            "2500/2500 [==============================] - 5s 2ms/step - loss: 2.2430e-06 - accuracy: 0.9275\n",
            "Epoch 40/50\n",
            "2500/2500 [==============================] - 5s 2ms/step - loss: 2.1738e-06 - accuracy: 0.9281\n",
            "Epoch 41/50\n",
            "2500/2500 [==============================] - 5s 2ms/step - loss: 2.1577e-06 - accuracy: 0.9286\n",
            "Epoch 42/50\n",
            "2500/2500 [==============================] - 5s 2ms/step - loss: 2.1182e-06 - accuracy: 0.9298\n",
            "Epoch 43/50\n",
            "2500/2500 [==============================] - 5s 2ms/step - loss: 2.0772e-06 - accuracy: 0.9307\n",
            "Epoch 44/50\n",
            "2500/2500 [==============================] - 5s 2ms/step - loss: 2.0887e-06 - accuracy: 0.9305\n",
            "Epoch 45/50\n",
            "2500/2500 [==============================] - 5s 2ms/step - loss: 2.0728e-06 - accuracy: 0.9321\n",
            "Epoch 46/50\n",
            "2500/2500 [==============================] - 5s 2ms/step - loss: 2.0059e-06 - accuracy: 0.9330\n",
            "Epoch 47/50\n",
            "2500/2500 [==============================] - 5s 2ms/step - loss: 2.0310e-06 - accuracy: 0.9343\n",
            "Epoch 48/50\n",
            "2500/2500 [==============================] - 5s 2ms/step - loss: 1.9836e-06 - accuracy: 0.9347\n",
            "Epoch 49/50\n",
            "2500/2500 [==============================] - 5s 2ms/step - loss: 1.9942e-06 - accuracy: 0.9341\n",
            "Epoch 50/50\n",
            "2500/2500 [==============================] - 5s 2ms/step - loss: 1.9462e-06 - accuracy: 0.9352\n"
          ]
        },
        {
          "output_type": "execute_result",
          "data": {
            "text/plain": [
              "<keras.callbacks.History at 0x7fb6f5811190>"
            ]
          },
          "metadata": {},
          "execution_count": 14
        }
      ]
    },
    {
      "cell_type": "code",
      "metadata": {
        "colab": {
          "base_uri": "https://localhost:8080/"
        },
        "id": "38ZzcMqUL9Gn",
        "outputId": "321c8eb5-00f0-4feb-8f1d-ed77c3b4f43a"
      },
      "source": [
        "#Evaluate\n",
        "_, accuracy = model2.evaluate(pTest, test)\n",
        "print('Accuracy: %.2f' % (accuracy*100))\n",
        "print(_)"
      ],
      "execution_count": null,
      "outputs": [
        {
          "output_type": "stream",
          "name": "stdout",
          "text": [
            "625/625 [==============================] - 1s 1ms/step - loss: 1.8176e-06 - accuracy: 0.9406\n",
            "Accuracy: 94.06\n",
            "1.8176116327595082e-06\n"
          ]
        }
      ]
    },
    {
      "cell_type": "code",
      "metadata": {
        "id": "zTG4lZkKOe3q"
      },
      "source": [
        "#Prediction\n",
        "pred=model2.predict(pTest)\n",
        "dif=test-pred;"
      ],
      "execution_count": null,
      "outputs": []
    },
    {
      "cell_type": "code",
      "metadata": {
        "colab": {
          "base_uri": "https://localhost:8080/"
        },
        "id": "xzFbDitpK64Z",
        "outputId": "58d735e0-96fe-4dd8-d781-aef3a145169e"
      },
      "source": [
        "print(pred.shape)"
      ],
      "execution_count": null,
      "outputs": [
        {
          "output_type": "stream",
          "name": "stdout",
          "text": [
            "(19999, 300)\n"
          ]
        }
      ]
    },
    {
      "cell_type": "code",
      "metadata": {
        "id": "JLTpJV0pO3rV",
        "colab": {
          "base_uri": "https://localhost:8080/",
          "height": 72
        },
        "outputId": "ea9d4b93-d832-400e-f3c0-a8b3ce53b518"
      },
      "source": [
        "#Plot\n",
        "'''\n",
        "for i in range (0,10000):  \n",
        "  str1=str(round(pTest[i][0],2))\n",
        "  str2=str(round(pTest[i][1],2))\n",
        "  str3=str(round(pTest[i][2],2))\n",
        "  plt.title(\"[\"+str1+\",\"+str2+\",\"+str3+\"]\")\n",
        "  plt.plot(test[i],color=\"blue\")\n",
        "  plt.plot(pred[i],color=\"red\")\n",
        "  plt.plot(dif[i],color=\"green\")\n",
        "  plt.show()\n",
        "  '''"
      ],
      "execution_count": null,
      "outputs": [
        {
          "output_type": "execute_result",
          "data": {
            "application/vnd.google.colaboratory.intrinsic+json": {
              "type": "string"
            },
            "text/plain": [
              "'\\nfor i in range (0,10000):  \\n  str1=str(round(pTest[i][0],2))\\n  str2=str(round(pTest[i][1],2))\\n  str3=str(round(pTest[i][2],2))\\n  plt.title(\"[\"+str1+\",\"+str2+\",\"+str3+\"]\")\\n  plt.plot(test[i],color=\"blue\")\\n  plt.plot(pred[i],color=\"red\")\\n  plt.plot(dif[i],color=\"green\")\\n  plt.show()\\n  '"
            ]
          },
          "metadata": {},
          "execution_count": 18
        }
      ]
    },
    {
      "cell_type": "markdown",
      "metadata": {
        "id": "RHb1U7f3TLJ0"
      },
      "source": [
        "#Datos para Heatmap\n"
      ]
    },
    {
      "cell_type": "code",
      "metadata": {
        "id": "l4mHGfQXiKAO",
        "colab": {
          "base_uri": "https://localhost:8080/"
        },
        "outputId": "f9b529af-80e6-46ad-acbf-824bb867a51f"
      },
      "source": [
        "print(points2[0])\n",
        "print(points2[12500])\n",
        "print(points2[25000])\n",
        "print(points2[37500])\n",
        "print(points2[50000])\n",
        "print(points2[62500])\n",
        "print(points2[75000])\n",
        "print(points2[87500])\n"
      ],
      "execution_count": null,
      "outputs": [
        {
          "output_type": "stream",
          "name": "stdout",
          "text": [
            "[-1. -1. -1.]\n",
            "[-1. -1.  0.]\n",
            "[-1.  0. -1.]\n",
            "[-1.  0.  0.]\n",
            "[ 0. -1. -1.]\n",
            "[ 0. -1. -1.]\n",
            "[ 0.  0. -1.]\n",
            "[0. 0. 0.]\n"
          ]
        }
      ]
    },
    {
      "cell_type": "code",
      "metadata": {
        "id": "eKvTWiRGlHoT"
      },
      "source": [
        "slice1=points2[0:500]\n",
        "slice2=points2[12500:13000]\n",
        "slice3=points2[25000:25500]\n",
        "slice4=points2[37500:38000]\n",
        "sl1=np.concatenate((slice1,slice2,slice3,slice4))\n"
      ],
      "execution_count": null,
      "outputs": []
    },
    {
      "cell_type": "code",
      "metadata": {
        "id": "eET9q4bPmtR8"
      },
      "source": [
        "slice1=points2[50000:50500]\n",
        "slice2=points2[62500:63000]\n",
        "slice3=points2[75000:75500]\n",
        "slice4=points2[87500:88000]\n",
        "sl2=np.concatenate((slice1,slice2,slice3,slice4))"
      ],
      "execution_count": null,
      "outputs": []
    },
    {
      "cell_type": "code",
      "metadata": {
        "id": "NV1yE6rjnyGb"
      },
      "source": [
        "slice1=points2[6000:6500]\n",
        "slice2=points2[18500:19000]\n",
        "slice3=points2[31000:31500]\n",
        "slice4=points2[43500:44000]\n",
        "sl3=np.concatenate((slice1,slice2,slice3,slice4))"
      ],
      "execution_count": null,
      "outputs": []
    },
    {
      "cell_type": "code",
      "metadata": {
        "id": "dn_Hio7Fzywr"
      },
      "source": [
        "#+0.52\n",
        "slice1=points2[56500:57000]\n",
        "slice2=points2[69000:69500]\n",
        "slice3=points2[81500:83000]\n",
        "slice4=points2[94000:94500]\n",
        "sl4=np.concatenate((slice1,slice2,slice3,slice4))\n",
        "\n"
      ],
      "execution_count": null,
      "outputs": []
    },
    {
      "cell_type": "code",
      "metadata": {
        "id": "fMmyEgGq3lG9"
      },
      "source": [
        "#+0.96\n",
        "slice1=points2[99500:100000]\n",
        "slice2=points2[87000:87500]\n",
        "slice3=points2[74500:75000]\n",
        "slice4=points2[62000:62500]\n",
        "sl5=np.concatenate((slice1,slice2,slice3,slice4))"
      ],
      "execution_count": null,
      "outputs": []
    },
    {
      "cell_type": "code",
      "metadata": {
        "id": "du9zkVsRm5H8"
      },
      "source": [
        "#Trozos de valores de energia\n",
        "slice1=listNp2[0:500]\n",
        "slice2=listNp2[12500:13000]\n",
        "slice3=listNp2[25000:25500]\n",
        "slice4=listNp2[37500:38000]\n",
        "sl1E=np.concatenate((slice1,slice2,slice3,slice4))\n",
        "slice1=listNp2[50000:50500]\n",
        "slice2=listNp2[62500:63000]\n",
        "slice3=listNp2[75000:75500]\n",
        "slice4=listNp2[87500:88000]\n",
        "sl2E=np.concatenate((slice1,slice2,slice3,slice4))\n",
        "slice1=listNp2[6000:6500]\n",
        "slice2=listNp2[18500:19000]\n",
        "slice3=listNp2[31000:31500]\n",
        "slice4=listNp2[43500:44000]\n",
        "sl3E=np.concatenate((slice1,slice2,slice3,slice4))\n",
        "#+0.52\n",
        "slice1=listNp2[56500:57000]\n",
        "slice2=listNp2[69000:69500]\n",
        "slice3=listNp2[81500:83000]\n",
        "slice4=listNp2[94000:94500]\n",
        "sl4E=np.concatenate((slice1,slice2,slice3,slice4))\n",
        "#+0.96\n",
        "slice1=listNp2[99500:100000]\n",
        "slice2=listNp2[87000:87500]\n",
        "slice3=listNp2[74500:75000]\n",
        "slice4=listNp2[62000:62500]\n",
        "sl5E=np.concatenate((slice1,slice2,slice3,slice4))\n"
      ],
      "execution_count": null,
      "outputs": []
    },
    {
      "cell_type": "markdown",
      "metadata": {
        "id": "fk3kkMHPphIQ"
      },
      "source": [
        "Pruebas del modelo\n"
      ]
    },
    {
      "cell_type": "code",
      "metadata": {
        "colab": {
          "base_uri": "https://localhost:8080/"
        },
        "id": "k8jg-IsTpfss",
        "outputId": "e7c86799-d2cd-4eaf-bdc6-78d2202e72e9"
      },
      "source": [
        "#Puntos\n",
        "print(sl1[0])\n",
        "print(sl2[0])\n",
        "print(sl3[0])\n",
        "print(sl4[0])\n",
        "print(sl5[0])\n"
      ],
      "execution_count": null,
      "outputs": [
        {
          "output_type": "stream",
          "name": "stdout",
          "text": [
            "[-1. -1. -1.]\n",
            "[ 0. -1. -1.]\n",
            "[-0.52 -1.   -1.  ]\n",
            "[ 0.52 -1.   -1.  ]\n",
            "[0.96 0.   0.  ]\n"
          ]
        }
      ]
    },
    {
      "cell_type": "code",
      "metadata": {
        "id": "SeruRJyrpnaA"
      },
      "source": [
        "#Prediction\n",
        "preds1=model2.predict(sl1);\n",
        "preds2=model2.predict(sl2);\n",
        "preds3=model2.predict(sl3);\n",
        "preds4=model2.predict(sl4);\n",
        "preds5=model2.predict(sl5);\n",
        "\n",
        "dif1=sl1E-preds1;\n",
        "dif2=sl2E-preds2;\n",
        "dif3=sl3E-preds3;\n",
        "dif4=sl4E-preds4;\n",
        "dif5=sl5E-preds5;\n",
        "\n"
      ],
      "execution_count": null,
      "outputs": []
    },
    {
      "cell_type": "code",
      "metadata": {
        "id": "JIYXk2T2qzir"
      },
      "source": [
        "#Error minimo cuadrado\n",
        "e1=np.zeros(2000)\n",
        "e0=np.zeros(2000)\n",
        "e5=np.zeros(2000)\n",
        "e5p=np.zeros(2000)\n",
        "e1p=np.zeros(2000)\n",
        "\n",
        "\n",
        "for x in range(2000):\n",
        "  for y in range(300):\n",
        "    e1[x]+=dif1[x][y]**2;\n",
        "    e0[x]+=dif2[x][y]**2;\n",
        "    e5[x]+=dif3[x][y]**2;\n",
        "    e5p[x]+=dif4[x][y]**2;\n",
        "    e1p[x]+=dif5[x][y]**2;\n",
        "\n"
      ],
      "execution_count": null,
      "outputs": []
    },
    {
      "cell_type": "code",
      "metadata": {
        "colab": {
          "base_uri": "https://localhost:8080/"
        },
        "id": "n3hGlkjAzNFx",
        "outputId": "59060e77-95aa-44f7-e84e-9603c8cf7def"
      },
      "source": [
        "print(e1)\n",
        "print(e0)\n",
        "print(e5)\n",
        "print(e5p)\n",
        "print(e1p)\n"
      ],
      "execution_count": null,
      "outputs": [
        {
          "output_type": "stream",
          "name": "stdout",
          "text": [
            "[0.00325143 0.00236256 0.00176604 ... 0.00052475 0.00069147 0.00098901]\n",
            "[0.00221381 0.00184519 0.00158608 ... 0.00019404 0.00024813 0.00058327]\n",
            "[0.00111764 0.00092782 0.00081312 ... 0.00027052 0.00036444 0.00056961]\n",
            "[0.0010692  0.00092448 0.00081293 ... 0.00016576 0.00021726 0.00060254]\n",
            "[0.00784129 0.00355691 0.00351191 ... 0.00015207 0.00024904 0.00058448]\n"
          ]
        }
      ]
    },
    {
      "cell_type": "code",
      "metadata": {
        "id": "4C6gUymbs2NM"
      },
      "source": [
        "#slice 1\n",
        "_Y1=np.linspace(-1,0.96,50);\n",
        "_Z1=np.linspace(-1,0.95,40);\n",
        "_X1=np.zeros((40,50));\n",
        "_X0=np.zeros((40,50));\n",
        "_X5=np.zeros((40,50));\n",
        "_X5p=np.zeros((40,50));\n",
        "_X1p=np.zeros((40,50));\n",
        "\n"
      ],
      "execution_count": null,
      "outputs": []
    },
    {
      "cell_type": "code",
      "metadata": {
        "id": "2SCcMFWGvIMj"
      },
      "source": [
        "counter =0\n",
        "for iy,y in enumerate (_Y1):\n",
        "  for iz,z in enumerate(_Z1):\n",
        "    _X1[iz,iy ]=e1[counter];\n",
        "    _X0[iz,iy ]=e0[counter];\n",
        "    _X5[iz,iy ]=e5[counter];\n",
        "    _X5p[iz,iy ]=e5p[counter];\n",
        "    _X1p[iz,iy ]=e1p[counter];\n",
        "    \n",
        "    counter+=1"
      ],
      "execution_count": null,
      "outputs": []
    },
    {
      "cell_type": "code",
      "metadata": {
        "colab": {
          "base_uri": "https://localhost:8080/",
          "height": 269
        },
        "id": "YYhcx3_Jrofr",
        "outputId": "2daef72c-54a3-43fb-bfc8-192cce4ecdd2"
      },
      "source": [
        "#-1\n",
        "plt.contourf(_Y1,_Z1,_X1,25);\n",
        "plt.colorbar();\n",
        "plt.show();"
      ],
      "execution_count": null,
      "outputs": [
        {
          "output_type": "display_data",
          "data": {
            "image/png": "[encoded data removed]",
            "text/plain": [
              "<Figure size 432x288 with 2 Axes>"
            ]
          },
          "metadata": {
            "needs_background": "light"
          }
        }
      ]
    },
    {
      "cell_type": "code",
      "metadata": {
        "colab": {
          "base_uri": "https://localhost:8080/",
          "height": 265
        },
        "id": "L9pvfjxtxpV_",
        "outputId": "52ecad97-60e5-40c5-93ac-bc276d3b88b3"
      },
      "source": [
        "#0\n",
        "plt.contourf(_Y1,_Z1,_X0,25);\n",
        "plt.colorbar();\n",
        "plt.show();"
      ],
      "execution_count": null,
      "outputs": [
        {
          "output_type": "display_data",
          "data": {
            "image/png": "[encoded data removed]",
            "text/plain": [
              "<Figure size 432x288 with 2 Axes>"
            ]
          },
          "metadata": {
            "needs_background": "light"
          }
        }
      ]
    },
    {
      "cell_type": "code",
      "metadata": {
        "colab": {
          "base_uri": "https://localhost:8080/",
          "height": 265
        },
        "id": "iq7YR0vpxpf6",
        "outputId": "0146978f-3fca-4505-eb85-78ae1d97d547"
      },
      "source": [
        "#-0.5\n",
        "plt.contourf(_Y1,_Z1,_X0,25);\n",
        "plt.colorbar();\n",
        "plt.show();"
      ],
      "execution_count": null,
      "outputs": [
        {
          "output_type": "display_data",
          "data": {
            "image/png": "[encoded data removed]",
            "text/plain": [
              "<Figure size 432x288 with 2 Axes>"
            ]
          },
          "metadata": {
            "needs_background": "light"
          }
        }
      ]
    },
    {
      "cell_type": "code",
      "metadata": {
        "colab": {
          "base_uri": "https://localhost:8080/",
          "height": 265
        },
        "id": "XA_wLXbw6IQy",
        "outputId": "f589dbfa-0721-4295-c64f-59cc68d33523"
      },
      "source": [
        "#+0.52\n",
        "plt.contourf(_Y1,_Z1,_X5p,25);\n",
        "plt.colorbar();\n",
        "plt.show();"
      ],
      "execution_count": null,
      "outputs": [
        {
          "output_type": "display_data",
          "data": {
            "image/png": "[encoded data removed]",
            "text/plain": [
              "<Figure size 432x288 with 2 Axes>"
            ]
          },
          "metadata": {
            "needs_background": "light"
          }
        }
      ]
    },
    {
      "cell_type": "code",
      "metadata": {
        "colab": {
          "base_uri": "https://localhost:8080/",
          "height": 269
        },
        "id": "XhtWhwCE6IZM",
        "outputId": "de7b9b7a-8a01-4f80-9696-dd7a3ed87a38"
      },
      "source": [
        "#+0.96\n",
        "plt.contourf(_Y1,_Z1,_X1p,25);\n",
        "plt.colorbar();\n",
        "plt.show();"
      ],
      "execution_count": null,
      "outputs": [
        {
          "output_type": "display_data",
          "data": {
            "image/png": "[encoded data removed]",
            "text/plain": [
              "<Figure size 432x288 with 2 Axes>"
            ]
          },
          "metadata": {
            "needs_background": "light"
          }
        }
      ]
    }
  ]
}